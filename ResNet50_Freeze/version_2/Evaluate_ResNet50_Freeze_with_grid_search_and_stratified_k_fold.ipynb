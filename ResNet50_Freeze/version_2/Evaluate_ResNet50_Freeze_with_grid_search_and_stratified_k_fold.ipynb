{
 "cells": [
  {
   "cell_type": "markdown",
   "id": "97e197b3-863d-4c4a-b92b-dedd6dea384a",
   "metadata": {},
   "source": [
    "# MlFlow Experiment Tracking Setup"
   ]
  },
  {
   "cell_type": "code",
   "execution_count": 1,
   "id": "4e4baede-b631-42cb-9e2c-777146b375c9",
   "metadata": {},
   "outputs": [
    {
     "data": {
      "text/plain": [
       "<function mlflow.tracking.fluent.set_experiment_tag(key: str, value: Any) -> None>"
      ]
     },
     "execution_count": 1,
     "metadata": {},
     "output_type": "execute_result"
    }
   ],
   "source": [
    "import mlflow\n",
    "mlflow.autolog()\n",
    "mlflow.set_tracking_uri(\"http://localhost:8080\")\n",
    "mlflow.set_experiment(\"ResNet50_Freeze\")\n",
    "mlflow.set_tag(\"mlflow.runName\", \"version 2\")\n",
    "mlflow.set_experiment_tag"
   ]
  },
  {
   "cell_type": "markdown",
   "id": "6851ece3-2795-4f8f-bbf4-a7655cffc10e",
   "metadata": {},
   "source": [
    "# Imports"
   ]
  },
  {
   "cell_type": "code",
   "execution_count": 2,
   "id": "6d1f9477-0e4c-438d-a3f9-d3718f472ce5",
   "metadata": {},
   "outputs": [
    {
     "name": "stderr",
     "output_type": "stream",
     "text": [
      "2025/06/17 15:32:46 INFO mlflow.tracking.fluent: Autologging successfully enabled for sklearn.\n"
     ]
    }
   ],
   "source": [
    "import os\n",
    "import cv2\n",
    "import sys\n",
    "from PIL import Image\n",
    "from torchvision.transforms.functional import to_pil_image\n",
    "from tqdm.notebook import tqdm\n",
    "import matplotlib.pyplot as plt\n",
    "import torch\n",
    "from torch.utils.data import Dataset, DataLoader, random_split, Subset\n",
    "#Using Resnet50 for classification\n",
    "import torchvision.models as models\n",
    "import torch.nn as nn\n",
    "from torchmetrics import Accuracy, Precision, Recall, F1Score\n",
    "from pathlib import Path\n",
    "from sklearn.model_selection import StratifiedKFold\n",
    "import torch.optim as optim\n",
    "import numpy as np\n",
    "\n",
    "MAIN_DIR = Path(\"__file__\").resolve().parent.parent.parent\n",
    "CLASSIFICATION_MAPPING_DIR = os.path.join(MAIN_DIR, \"classification_mapping\") \n",
    "if CLASSIFICATION_MAPPING_DIR not in sys.path:\n",
    "    sys.path.insert(0, CLASSIFICATION_MAPPING_DIR)\n",
    "from classification_mapping import CLASSIFICATION_MAPPING\n",
    "\n",
    "DATA_DIR = os.path.join(MAIN_DIR, 'data')\n",
    "TRANSLATED_DATA_DIR = os.path.join(MAIN_DIR, 'data_translated')"
   ]
  },
  {
   "cell_type": "code",
   "execution_count": 3,
   "id": "ceeb06b0-8e01-46ac-837d-6f02dff57bae",
   "metadata": {},
   "outputs": [
    {
     "name": "stdout",
     "output_type": "stream",
     "text": [
      "Using cuda device\n"
     ]
    }
   ],
   "source": [
    "DEVICE = torch.accelerator.current_accelerator().type if torch.accelerator.is_available() else \"cpu\"\n",
    "print(f\"Using {DEVICE} device\")"
   ]
  },
  {
   "cell_type": "markdown",
   "id": "bf5c2bba-794d-49bb-8f10-eaa67fc9e540",
   "metadata": {},
   "source": [
    "# Loading Dataset"
   ]
  },
  {
   "cell_type": "code",
   "execution_count": 4,
   "id": "41c1b58a-62f7-4f22-afd7-cd8eb04a2d03",
   "metadata": {},
   "outputs": [],
   "source": [
    "mean=[0.485, 0.456, 0.406]\n",
    "std=[0.229, 0.224, 0.225]"
   ]
  },
  {
   "cell_type": "code",
   "execution_count": 5,
   "id": "3ecce1ae-15d1-435a-a4fa-0e262a185350",
   "metadata": {},
   "outputs": [],
   "source": [
    "# Function to transform images to 224x224 for ResNet with normalization based on\n",
    "# original model image normalization settings\n",
    "from torchvision import transforms\n",
    "transform = transforms.Compose([\n",
    "    transforms.Resize((224, 224)),\n",
    "    transforms.ToTensor(),\n",
    "    transforms.Normalize(mean=mean, std=std),\n",
    "])"
   ]
  },
  {
   "cell_type": "code",
   "execution_count": 6,
   "id": "292bf32f-9018-40b0-abbc-ab2d3243dc6f",
   "metadata": {
    "scrolled": true
   },
   "outputs": [],
   "source": [
    "data, labels = [], []\n",
    "\n",
    "# Reconverting the image to view in data_translated\n",
    "mean = torch.tensor(mean).view(3, 1, 1)\n",
    "std = torch.tensor(std).view(3, 1, 1)\n",
    "\n",
    "for dir_ in os.listdir(DATA_DIR):\n",
    "    path = os.path.join(DATA_DIR, dir_)\n",
    "    translated_path = os.path.join(TRANSLATED_DATA_DIR, dir_)\n",
    "    if not os.path.exists(translated_path): os.makedirs(translated_path)\n",
    "\n",
    "    for img in os.listdir(path):\n",
    "        # Load and transform the image\n",
    "        image_path = os.path.join(path, img)\n",
    "        image = cv2.imread(image_path)\n",
    "        img_rgb = cv2.cvtColor(image, cv2.COLOR_BGR2RGB)\n",
    "        img_pil = Image.fromarray(img_rgb)\n",
    "        image_tensor = transform(img_pil)\n",
    "\n",
    "        data.append(image_tensor)\n",
    "        labels.append(dir_)\n",
    "\n",
    "        # Convert back to PIL image, unnormalize, and save\n",
    "        unnormalized = image_tensor * std + mean\n",
    "        unnormalized = unnormalized.clamp(0, 1)\n",
    "        \n",
    "        image_pil = to_pil_image(unnormalized)\n",
    "        image_translated_path = os.path.join(translated_path, img)\n",
    "        image_pil.save(image_translated_path)"
   ]
  },
  {
   "cell_type": "code",
   "execution_count": 7,
   "id": "0d823e0f-3eb5-485d-8895-ea6c063b9f06",
   "metadata": {},
   "outputs": [
    {
     "name": "stdout",
     "output_type": "stream",
     "text": [
      "178\n"
     ]
    }
   ],
   "source": [
    "print(len(data))"
   ]
  },
  {
   "cell_type": "code",
   "execution_count": 8,
   "id": "53bf5cf5-f8c4-4f30-b9b6-99df13ee3589",
   "metadata": {},
   "outputs": [],
   "source": [
    "class SignDataset(Dataset):\n",
    "    def __init__(self, data, labels):\n",
    "        self.data = data\n",
    "        self.labels = torch.tensor([CLASSIFICATION_MAPPING[label] for label in labels], dtype=torch.long)\n",
    "\n",
    "    def __len__(self):\n",
    "        return len(self.data)\n",
    "\n",
    "    def __getitem__(self, idx):\n",
    "        return self.data[idx], self.labels[idx]\n",
    "\n",
    "    @property\n",
    "    def classes(self):\n",
    "        return self.data.classes"
   ]
  },
  {
   "cell_type": "code",
   "execution_count": 9,
   "id": "22fa42fd-ee56-4e81-a82a-f7c1491cc371",
   "metadata": {},
   "outputs": [
    {
     "data": {
      "text/plain": [
       "178"
      ]
     },
     "execution_count": 9,
     "metadata": {},
     "output_type": "execute_result"
    }
   ],
   "source": [
    "dataset = SignDataset(data, labels)\n",
    "len(dataset)"
   ]
  },
  {
   "cell_type": "code",
   "execution_count": 10,
   "id": "4c917e5f-11c2-4ad4-b4d0-3b6f234f55ec",
   "metadata": {},
   "outputs": [],
   "source": [
    "# Stratified K Folde Cross Validation\n",
    "k_folds = 5\n",
    "skf = StratifiedKFold(n_splits=k_folds, shuffle=True, random_state=42)"
   ]
  },
  {
   "cell_type": "markdown",
   "id": "d7ebc3a9-03d8-4ee2-99f6-47cfc3a20aac",
   "metadata": {},
   "source": [
    "# Function to Load Pre-trained Model from Pytorch"
   ]
  },
  {
   "cell_type": "code",
   "execution_count": 11,
   "id": "4c2ab4f2-af42-4815-b02c-66149a6a3abc",
   "metadata": {},
   "outputs": [],
   "source": [
    "def create_model():\n",
    "    model = models.resnet50(weights = models.ResNet50_Weights.DEFAULT)\n",
    "    num_classes = 4 # Change output to 4 for desired classification task\n",
    "    model.fc = nn.Linear(model.fc.in_features, num_classes)\n",
    "\n",
    "    for param in model.parameters():\n",
    "         param.requires_grad = False\n",
    "    # Unfreeze the last layer\n",
    "    for param in model.fc.parameters():\n",
    "         param.requires_grad = True\n",
    "    return model"
   ]
  },
  {
   "cell_type": "markdown",
   "id": "da56e6bb-44d4-4741-8ab9-d1df4589c555",
   "metadata": {},
   "source": [
    "# Grid Search Parameters"
   ]
  },
  {
   "cell_type": "code",
   "execution_count": 12,
   "id": "899b363d-2eb7-44ea-984c-334c763e4115",
   "metadata": {},
   "outputs": [],
   "source": [
    "# Grid Search Parameters\n",
    "param_grid = {\n",
    "    'lr': [0.01, 0.001, 0.0001],\n",
    "    'train_batch_size': [16, 32, 64],\n",
    "    'test_batch_size': [16],\n",
    "    'weight_decay': [0.0, 1e-4],\n",
    "}"
   ]
  },
  {
   "cell_type": "code",
   "execution_count": 13,
   "id": "3ca3a6be-7603-4ff2-b5f5-9ec9748c2991",
   "metadata": {},
   "outputs": [],
   "source": [
    "# Use itertools.product to iterate through combinations\n",
    "from itertools import product\n",
    "\n",
    "param_combinations = list(product(*param_grid.values()))\n",
    "param_names = list(param_grid.keys())"
   ]
  },
  {
   "cell_type": "markdown",
   "id": "4b9161a9-2bae-4987-bcad-fbfead976fbb",
   "metadata": {},
   "source": [
    "# Model training"
   ]
  },
  {
   "cell_type": "code",
   "execution_count": 14,
   "id": "e0d3b3e5-2d26-4d9a-8f66-c11eb5da4a0c",
   "metadata": {},
   "outputs": [],
   "source": [
    "def train(model, optimizer, dataloader, criterion, device):\n",
    "    model.train()\n",
    "    for data, labels in dataloader:\n",
    "        data, labels = data.to(device), labels.to(device)\n",
    "        optimizer.zero_grad()\n",
    "        outputs = model(data)\n",
    "        loss = criterion(outputs, labels)\n",
    "        loss.backward()\n",
    "        optimizer.step()"
   ]
  },
  {
   "cell_type": "code",
   "execution_count": 15,
   "id": "5fa8bf86-9288-40a4-9604-7b83cb308e38",
   "metadata": {},
   "outputs": [],
   "source": [
    "def evaluate(model, dataloader, device):\n",
    "    model.eval()\n",
    "    correct = total = 0\n",
    "    with torch.no_grad():\n",
    "        for data, labels in dataloader:\n",
    "            data, labels = data.to(device), labels.to(device)\n",
    "            outputs = model(data)\n",
    "            preds = outputs.argmax(dim=1)\n",
    "            correct += (preds == labels).sum().item()\n",
    "            total += labels.size(0)\n",
    "    return correct / total"
   ]
  },
  {
   "cell_type": "code",
   "execution_count": 16,
   "id": "e1fce1b9-5c1c-430d-b030-24f269592d97",
   "metadata": {
    "scrolled": true
   },
   "outputs": [
    {
     "name": "stdout",
     "output_type": "stream",
     "text": [
      "Testing params: {'lr': 0.01, 'train_batch_size': 16, 'test_batch_size': 16, 'weight_decay': 0.0}\n",
      "Fold 1\n",
      "Fold 2\n",
      "Fold 3\n",
      "Fold 4\n",
      "Fold 5\n",
      "Average Accuracy: 0.8933\n",
      "Testing params: {'lr': 0.01, 'train_batch_size': 16, 'test_batch_size': 16, 'weight_decay': 0.0001}\n",
      "Fold 1\n",
      "Fold 2\n",
      "Fold 3\n",
      "Fold 4\n",
      "Fold 5\n",
      "Average Accuracy: 0.8989\n",
      "Testing params: {'lr': 0.01, 'train_batch_size': 32, 'test_batch_size': 16, 'weight_decay': 0.0}\n",
      "Fold 1\n",
      "Fold 2\n",
      "Fold 3\n",
      "Fold 4\n",
      "Fold 5\n",
      "Average Accuracy: 0.8933\n",
      "Testing params: {'lr': 0.01, 'train_batch_size': 32, 'test_batch_size': 16, 'weight_decay': 0.0001}\n",
      "Fold 1\n",
      "Fold 2\n",
      "Fold 3\n",
      "Fold 4\n",
      "Fold 5\n",
      "Average Accuracy: 0.8767\n",
      "Testing params: {'lr': 0.01, 'train_batch_size': 64, 'test_batch_size': 16, 'weight_decay': 0.0}\n",
      "Fold 1\n",
      "Fold 2\n",
      "Fold 3\n",
      "Fold 4\n",
      "Fold 5\n",
      "Average Accuracy: 0.8600\n",
      "Testing params: {'lr': 0.01, 'train_batch_size': 64, 'test_batch_size': 16, 'weight_decay': 0.0001}\n",
      "Fold 1\n",
      "Fold 2\n",
      "Fold 3\n",
      "Fold 4\n",
      "Fold 5\n",
      "Average Accuracy: 0.8989\n",
      "Testing params: {'lr': 0.001, 'train_batch_size': 16, 'test_batch_size': 16, 'weight_decay': 0.0}\n",
      "Fold 1\n",
      "Fold 2\n",
      "Fold 3\n",
      "Fold 4\n",
      "Fold 5\n",
      "Average Accuracy: 0.8933\n",
      "Testing params: {'lr': 0.001, 'train_batch_size': 16, 'test_batch_size': 16, 'weight_decay': 0.0001}\n",
      "Fold 1\n",
      "Fold 2\n",
      "Fold 3\n",
      "Fold 4\n",
      "Fold 5\n",
      "Average Accuracy: 0.8821\n",
      "Testing params: {'lr': 0.001, 'train_batch_size': 32, 'test_batch_size': 16, 'weight_decay': 0.0}\n",
      "Fold 1\n",
      "Fold 2\n",
      "Fold 3\n",
      "Fold 4\n",
      "Fold 5\n",
      "Average Accuracy: 0.8822\n",
      "Testing params: {'lr': 0.001, 'train_batch_size': 32, 'test_batch_size': 16, 'weight_decay': 0.0001}\n",
      "Fold 1\n",
      "Fold 2\n",
      "Fold 3\n",
      "Fold 4\n",
      "Fold 5\n",
      "Average Accuracy: 0.8765\n",
      "Testing params: {'lr': 0.001, 'train_batch_size': 64, 'test_batch_size': 16, 'weight_decay': 0.0}\n",
      "Fold 1\n",
      "Fold 2\n",
      "Fold 3\n",
      "Fold 4\n",
      "Fold 5\n",
      "Average Accuracy: 0.8762\n",
      "Testing params: {'lr': 0.001, 'train_batch_size': 64, 'test_batch_size': 16, 'weight_decay': 0.0001}\n",
      "Fold 1\n",
      "Fold 2\n",
      "Fold 3\n",
      "Fold 4\n",
      "Fold 5\n",
      "Average Accuracy: 0.8595\n",
      "Testing params: {'lr': 0.0001, 'train_batch_size': 16, 'test_batch_size': 16, 'weight_decay': 0.0}\n",
      "Fold 1\n",
      "Fold 2\n",
      "Fold 3\n",
      "Fold 4\n",
      "Fold 5\n",
      "Average Accuracy: 0.8427\n",
      "Testing params: {'lr': 0.0001, 'train_batch_size': 16, 'test_batch_size': 16, 'weight_decay': 0.0001}\n",
      "Fold 1\n",
      "Fold 2\n",
      "Fold 3\n",
      "Fold 4\n",
      "Fold 5\n",
      "Average Accuracy: 0.8149\n",
      "Testing params: {'lr': 0.0001, 'train_batch_size': 32, 'test_batch_size': 16, 'weight_decay': 0.0}\n",
      "Fold 1\n",
      "Fold 2\n",
      "Fold 3\n",
      "Fold 4\n",
      "Fold 5\n",
      "Average Accuracy: 0.7698\n",
      "Testing params: {'lr': 0.0001, 'train_batch_size': 32, 'test_batch_size': 16, 'weight_decay': 0.0001}\n",
      "Fold 1\n",
      "Fold 2\n",
      "Fold 3\n",
      "Fold 4\n",
      "Fold 5\n",
      "Average Accuracy: 0.7754\n",
      "Testing params: {'lr': 0.0001, 'train_batch_size': 64, 'test_batch_size': 16, 'weight_decay': 0.0}\n",
      "Fold 1\n",
      "Fold 2\n",
      "Fold 3\n",
      "Fold 4\n",
      "Fold 5\n",
      "Average Accuracy: 0.6965\n",
      "Testing params: {'lr': 0.0001, 'train_batch_size': 64, 'test_batch_size': 16, 'weight_decay': 0.0001}\n",
      "Fold 1\n",
      "Fold 2\n",
      "Fold 3\n",
      "Fold 4\n",
      "Fold 5\n",
      "Average Accuracy: 0.6689\n"
     ]
    }
   ],
   "source": [
    "categories = []\n",
    "accuracies = []\n",
    "results = []\n",
    "num_epochs = 40\n",
    "for params in param_combinations:\n",
    "    config = dict(zip(param_names, params))\n",
    "    print(f\"Testing params: {config}\")\n",
    "    fold_accuracies = []\n",
    "\n",
    "    for fold, (train_idx, val_idx) in enumerate(skf.split(data, labels)):\n",
    "        print(f\"Fold {fold+1}\")\n",
    "        train_subset = Subset(dataset, train_idx)\n",
    "        val_subset = Subset(dataset, val_idx)\n",
    "\n",
    "        train_loader = torch.utils.data.DataLoader(train_subset, batch_size=config['train_batch_size'], shuffle=True)\n",
    "        val_loader = torch.utils.data.DataLoader(val_subset, batch_size=config['test_batch_size'])\n",
    "\n",
    "        model = create_model()  # Initialize fresh model per fold\n",
    "        optimizer = optim.Adam(model.parameters(), lr=config['lr'], weight_decay=config['weight_decay'])\n",
    "        criterion = torch.nn.CrossEntropyLoss()\n",
    "        model.to(DEVICE)\n",
    "\n",
    "        # Train and evaluate\n",
    "        for epoch in range(num_epochs):  # or another stopping criterion\n",
    "            train(model, optimizer, train_loader, criterion, DEVICE)\n",
    "\n",
    "        acc = evaluate(model, val_loader, DEVICE)\n",
    "        fold_accuracies.append(acc)\n",
    "\n",
    "    avg_acc = np.mean(fold_accuracies)\n",
    "    print(f\"Average Accuracy: {avg_acc:.4f}\")\n",
    "    results.append((config, avg_acc))"
   ]
  },
  {
   "cell_type": "markdown",
   "id": "7631b56f-4495-4da1-9553-3c1328b07a7f",
   "metadata": {},
   "source": [
    "# Visualize"
   ]
  },
  {
   "cell_type": "code",
   "execution_count": 24,
   "id": "fafd92c8-b0b5-425c-91f7-13303ac73d46",
   "metadata": {},
   "outputs": [
    {
     "name": "stdout",
     "output_type": "stream",
     "text": [
      "<class 'tuple'>\n"
     ]
    }
   ],
   "source": [
    "print(type(results[0]))"
   ]
  },
  {
   "cell_type": "code",
   "execution_count": 17,
   "id": "76bd38d6-bf2d-4942-88c9-093ced8a21d4",
   "metadata": {},
   "outputs": [
    {
     "ename": "TypeError",
     "evalue": "unhashable type: 'numpy.ndarray'",
     "output_type": "error",
     "traceback": [
      "\u001b[1;31m---------------------------------------------------------------------------\u001b[0m",
      "\u001b[1;31mTypeError\u001b[0m                                 Traceback (most recent call last)",
      "Cell \u001b[1;32mIn[17], line 1\u001b[0m\n\u001b[1;32m----> 1\u001b[0m plt\u001b[38;5;241m.\u001b[39mbar(categories, results, width \u001b[38;5;241m=\u001b[39m \u001b[38;5;241m0.5\u001b[39m)\n\u001b[0;32m      2\u001b[0m plt\u001b[38;5;241m.\u001b[39mlegend()\n\u001b[0;32m      3\u001b[0m plt\u001b[38;5;241m.\u001b[39mtitle(\u001b[38;5;124m\"\u001b[39m\u001b[38;5;124mAccuracy Per Grid Search\u001b[39m\u001b[38;5;124m\"\u001b[39m)\n",
      "File \u001b[1;32mC:\\ProgramData\\anaconda3\\envs\\Vision_AI_Env\\Lib\\site-packages\\matplotlib\\pyplot.py:2979\u001b[0m, in \u001b[0;36mbar\u001b[1;34m(x, height, width, bottom, align, data, **kwargs)\u001b[0m\n\u001b[0;32m   2968\u001b[0m \u001b[38;5;129m@_copy_docstring_and_deprecators\u001b[39m(Axes\u001b[38;5;241m.\u001b[39mbar)\n\u001b[0;32m   2969\u001b[0m \u001b[38;5;28;01mdef\u001b[39;00m \u001b[38;5;21mbar\u001b[39m(\n\u001b[0;32m   2970\u001b[0m     x: \u001b[38;5;28mfloat\u001b[39m \u001b[38;5;241m|\u001b[39m ArrayLike,\n\u001b[1;32m   (...)\u001b[0m\n\u001b[0;32m   2977\u001b[0m     \u001b[38;5;241m*\u001b[39m\u001b[38;5;241m*\u001b[39mkwargs,\n\u001b[0;32m   2978\u001b[0m ) \u001b[38;5;241m-\u001b[39m\u001b[38;5;241m>\u001b[39m BarContainer:\n\u001b[1;32m-> 2979\u001b[0m     \u001b[38;5;28;01mreturn\u001b[39;00m gca()\u001b[38;5;241m.\u001b[39mbar(\n\u001b[0;32m   2980\u001b[0m         x,\n\u001b[0;32m   2981\u001b[0m         height,\n\u001b[0;32m   2982\u001b[0m         width\u001b[38;5;241m=\u001b[39mwidth,\n\u001b[0;32m   2983\u001b[0m         bottom\u001b[38;5;241m=\u001b[39mbottom,\n\u001b[0;32m   2984\u001b[0m         align\u001b[38;5;241m=\u001b[39malign,\n\u001b[0;32m   2985\u001b[0m         \u001b[38;5;241m*\u001b[39m\u001b[38;5;241m*\u001b[39m({\u001b[38;5;124m\"\u001b[39m\u001b[38;5;124mdata\u001b[39m\u001b[38;5;124m\"\u001b[39m: data} \u001b[38;5;28;01mif\u001b[39;00m data \u001b[38;5;129;01mis\u001b[39;00m \u001b[38;5;129;01mnot\u001b[39;00m \u001b[38;5;28;01mNone\u001b[39;00m \u001b[38;5;28;01melse\u001b[39;00m {}),\n\u001b[0;32m   2986\u001b[0m         \u001b[38;5;241m*\u001b[39m\u001b[38;5;241m*\u001b[39mkwargs,\n\u001b[0;32m   2987\u001b[0m     )\n",
      "File \u001b[1;32mC:\\ProgramData\\anaconda3\\envs\\Vision_AI_Env\\Lib\\site-packages\\matplotlib\\__init__.py:1521\u001b[0m, in \u001b[0;36m_preprocess_data.<locals>.inner\u001b[1;34m(ax, data, *args, **kwargs)\u001b[0m\n\u001b[0;32m   1518\u001b[0m \u001b[38;5;129m@functools\u001b[39m\u001b[38;5;241m.\u001b[39mwraps(func)\n\u001b[0;32m   1519\u001b[0m \u001b[38;5;28;01mdef\u001b[39;00m \u001b[38;5;21minner\u001b[39m(ax, \u001b[38;5;241m*\u001b[39margs, data\u001b[38;5;241m=\u001b[39m\u001b[38;5;28;01mNone\u001b[39;00m, \u001b[38;5;241m*\u001b[39m\u001b[38;5;241m*\u001b[39mkwargs):\n\u001b[0;32m   1520\u001b[0m     \u001b[38;5;28;01mif\u001b[39;00m data \u001b[38;5;129;01mis\u001b[39;00m \u001b[38;5;28;01mNone\u001b[39;00m:\n\u001b[1;32m-> 1521\u001b[0m         \u001b[38;5;28;01mreturn\u001b[39;00m func(\n\u001b[0;32m   1522\u001b[0m             ax,\n\u001b[0;32m   1523\u001b[0m             \u001b[38;5;241m*\u001b[39m\u001b[38;5;28mmap\u001b[39m(cbook\u001b[38;5;241m.\u001b[39msanitize_sequence, args),\n\u001b[0;32m   1524\u001b[0m             \u001b[38;5;241m*\u001b[39m\u001b[38;5;241m*\u001b[39m{k: cbook\u001b[38;5;241m.\u001b[39msanitize_sequence(v) \u001b[38;5;28;01mfor\u001b[39;00m k, v \u001b[38;5;129;01min\u001b[39;00m kwargs\u001b[38;5;241m.\u001b[39mitems()})\n\u001b[0;32m   1526\u001b[0m     bound \u001b[38;5;241m=\u001b[39m new_sig\u001b[38;5;241m.\u001b[39mbind(ax, \u001b[38;5;241m*\u001b[39margs, \u001b[38;5;241m*\u001b[39m\u001b[38;5;241m*\u001b[39mkwargs)\n\u001b[0;32m   1527\u001b[0m     auto_label \u001b[38;5;241m=\u001b[39m (bound\u001b[38;5;241m.\u001b[39marguments\u001b[38;5;241m.\u001b[39mget(label_namer)\n\u001b[0;32m   1528\u001b[0m                   \u001b[38;5;129;01mor\u001b[39;00m bound\u001b[38;5;241m.\u001b[39mkwargs\u001b[38;5;241m.\u001b[39mget(label_namer))\n",
      "File \u001b[1;32mC:\\ProgramData\\anaconda3\\envs\\Vision_AI_Env\\Lib\\site-packages\\matplotlib\\axes\\_axes.py:2555\u001b[0m, in \u001b[0;36mAxes.bar\u001b[1;34m(self, x, height, width, bottom, align, **kwargs)\u001b[0m\n\u001b[0;32m   2549\u001b[0m         x \u001b[38;5;241m=\u001b[39m \u001b[38;5;241m0\u001b[39m\n\u001b[0;32m   2551\u001b[0m \u001b[38;5;28;01mif\u001b[39;00m orientation \u001b[38;5;241m==\u001b[39m \u001b[38;5;124m'\u001b[39m\u001b[38;5;124mvertical\u001b[39m\u001b[38;5;124m'\u001b[39m:\n\u001b[0;32m   2552\u001b[0m     \u001b[38;5;66;03m# It is possible for y (bottom) to contain unit information.\u001b[39;00m\n\u001b[0;32m   2553\u001b[0m     \u001b[38;5;66;03m# However, it is also possible for y=0 for the default and height\u001b[39;00m\n\u001b[0;32m   2554\u001b[0m     \u001b[38;5;66;03m# to contain unit information.  This will prioritize the units of y.\u001b[39;00m\n\u001b[1;32m-> 2555\u001b[0m     \u001b[38;5;28mself\u001b[39m\u001b[38;5;241m.\u001b[39m_process_unit_info(\n\u001b[0;32m   2556\u001b[0m         [(\u001b[38;5;124m\"\u001b[39m\u001b[38;5;124mx\u001b[39m\u001b[38;5;124m\"\u001b[39m, x), (\u001b[38;5;124m\"\u001b[39m\u001b[38;5;124my\u001b[39m\u001b[38;5;124m\"\u001b[39m, y), (\u001b[38;5;124m\"\u001b[39m\u001b[38;5;124my\u001b[39m\u001b[38;5;124m\"\u001b[39m, height)], kwargs, convert\u001b[38;5;241m=\u001b[39m\u001b[38;5;28;01mFalse\u001b[39;00m)\n\u001b[0;32m   2557\u001b[0m     \u001b[38;5;28;01mif\u001b[39;00m log:\n\u001b[0;32m   2558\u001b[0m         \u001b[38;5;28mself\u001b[39m\u001b[38;5;241m.\u001b[39mset_yscale(\u001b[38;5;124m'\u001b[39m\u001b[38;5;124mlog\u001b[39m\u001b[38;5;124m'\u001b[39m, nonpositive\u001b[38;5;241m=\u001b[39m\u001b[38;5;124m'\u001b[39m\u001b[38;5;124mclip\u001b[39m\u001b[38;5;124m'\u001b[39m)\n",
      "File \u001b[1;32mC:\\ProgramData\\anaconda3\\envs\\Vision_AI_Env\\Lib\\site-packages\\matplotlib\\axes\\_base.py:2647\u001b[0m, in \u001b[0;36m_AxesBase._process_unit_info\u001b[1;34m(self, datasets, kwargs, convert)\u001b[0m\n\u001b[0;32m   2645\u001b[0m     \u001b[38;5;66;03m# Update from data if axis is already set but no unit is set yet.\u001b[39;00m\n\u001b[0;32m   2646\u001b[0m     \u001b[38;5;28;01mif\u001b[39;00m axis \u001b[38;5;129;01mis\u001b[39;00m \u001b[38;5;129;01mnot\u001b[39;00m \u001b[38;5;28;01mNone\u001b[39;00m \u001b[38;5;129;01mand\u001b[39;00m data \u001b[38;5;129;01mis\u001b[39;00m \u001b[38;5;129;01mnot\u001b[39;00m \u001b[38;5;28;01mNone\u001b[39;00m \u001b[38;5;129;01mand\u001b[39;00m \u001b[38;5;129;01mnot\u001b[39;00m axis\u001b[38;5;241m.\u001b[39mhave_units():\n\u001b[1;32m-> 2647\u001b[0m         axis\u001b[38;5;241m.\u001b[39mupdate_units(data)\n\u001b[0;32m   2648\u001b[0m \u001b[38;5;28;01mfor\u001b[39;00m axis_name, axis \u001b[38;5;129;01min\u001b[39;00m axis_map\u001b[38;5;241m.\u001b[39mitems():\n\u001b[0;32m   2649\u001b[0m     \u001b[38;5;66;03m# Return if no axis is set.\u001b[39;00m\n\u001b[0;32m   2650\u001b[0m     \u001b[38;5;28;01mif\u001b[39;00m axis \u001b[38;5;129;01mis\u001b[39;00m \u001b[38;5;28;01mNone\u001b[39;00m:\n",
      "File \u001b[1;32mC:\\ProgramData\\anaconda3\\envs\\Vision_AI_Env\\Lib\\site-packages\\matplotlib\\axis.py:1754\u001b[0m, in \u001b[0;36mAxis.update_units\u001b[1;34m(self, data)\u001b[0m\n\u001b[0;32m   1752\u001b[0m neednew \u001b[38;5;241m=\u001b[39m \u001b[38;5;28mself\u001b[39m\u001b[38;5;241m.\u001b[39m_converter \u001b[38;5;241m!=\u001b[39m converter\n\u001b[0;32m   1753\u001b[0m \u001b[38;5;28mself\u001b[39m\u001b[38;5;241m.\u001b[39m_set_converter(converter)\n\u001b[1;32m-> 1754\u001b[0m default \u001b[38;5;241m=\u001b[39m \u001b[38;5;28mself\u001b[39m\u001b[38;5;241m.\u001b[39m_converter\u001b[38;5;241m.\u001b[39mdefault_units(data, \u001b[38;5;28mself\u001b[39m)\n\u001b[0;32m   1755\u001b[0m \u001b[38;5;28;01mif\u001b[39;00m default \u001b[38;5;129;01mis\u001b[39;00m \u001b[38;5;129;01mnot\u001b[39;00m \u001b[38;5;28;01mNone\u001b[39;00m \u001b[38;5;129;01mand\u001b[39;00m \u001b[38;5;28mself\u001b[39m\u001b[38;5;241m.\u001b[39munits \u001b[38;5;129;01mis\u001b[39;00m \u001b[38;5;28;01mNone\u001b[39;00m:\n\u001b[0;32m   1756\u001b[0m     \u001b[38;5;28mself\u001b[39m\u001b[38;5;241m.\u001b[39mset_units(default)\n",
      "File \u001b[1;32mC:\\ProgramData\\anaconda3\\envs\\Vision_AI_Env\\Lib\\site-packages\\matplotlib\\category.py:106\u001b[0m, in \u001b[0;36mStrCategoryConverter.default_units\u001b[1;34m(data, axis)\u001b[0m\n\u001b[0;32m    104\u001b[0m \u001b[38;5;66;03m# the conversion call stack is default_units -> axis_info -> convert\u001b[39;00m\n\u001b[0;32m    105\u001b[0m \u001b[38;5;28;01mif\u001b[39;00m axis\u001b[38;5;241m.\u001b[39munits \u001b[38;5;129;01mis\u001b[39;00m \u001b[38;5;28;01mNone\u001b[39;00m:\n\u001b[1;32m--> 106\u001b[0m     axis\u001b[38;5;241m.\u001b[39mset_units(UnitData(data))\n\u001b[0;32m    107\u001b[0m \u001b[38;5;28;01melse\u001b[39;00m:\n\u001b[0;32m    108\u001b[0m     axis\u001b[38;5;241m.\u001b[39munits\u001b[38;5;241m.\u001b[39mupdate(data)\n",
      "File \u001b[1;32mC:\\ProgramData\\anaconda3\\envs\\Vision_AI_Env\\Lib\\site-packages\\matplotlib\\category.py:182\u001b[0m, in \u001b[0;36mUnitData.__init__\u001b[1;34m(self, data)\u001b[0m\n\u001b[0;32m    180\u001b[0m \u001b[38;5;28mself\u001b[39m\u001b[38;5;241m.\u001b[39m_counter \u001b[38;5;241m=\u001b[39m itertools\u001b[38;5;241m.\u001b[39mcount()\n\u001b[0;32m    181\u001b[0m \u001b[38;5;28;01mif\u001b[39;00m data \u001b[38;5;129;01mis\u001b[39;00m \u001b[38;5;129;01mnot\u001b[39;00m \u001b[38;5;28;01mNone\u001b[39;00m:\n\u001b[1;32m--> 182\u001b[0m     \u001b[38;5;28mself\u001b[39m\u001b[38;5;241m.\u001b[39mupdate(data)\n",
      "File \u001b[1;32mC:\\ProgramData\\anaconda3\\envs\\Vision_AI_Env\\Lib\\site-packages\\matplotlib\\category.py:215\u001b[0m, in \u001b[0;36mUnitData.update\u001b[1;34m(self, data)\u001b[0m\n\u001b[0;32m    213\u001b[0m \u001b[38;5;66;03m# check if convertible to number:\u001b[39;00m\n\u001b[0;32m    214\u001b[0m convertible \u001b[38;5;241m=\u001b[39m \u001b[38;5;28;01mTrue\u001b[39;00m\n\u001b[1;32m--> 215\u001b[0m \u001b[38;5;28;01mfor\u001b[39;00m val \u001b[38;5;129;01min\u001b[39;00m OrderedDict\u001b[38;5;241m.\u001b[39mfromkeys(data):\n\u001b[0;32m    216\u001b[0m     \u001b[38;5;66;03m# OrderedDict just iterates over unique values in data.\u001b[39;00m\n\u001b[0;32m    217\u001b[0m     _api\u001b[38;5;241m.\u001b[39mcheck_isinstance((\u001b[38;5;28mstr\u001b[39m, \u001b[38;5;28mbytes\u001b[39m), value\u001b[38;5;241m=\u001b[39mval)\n\u001b[0;32m    218\u001b[0m     \u001b[38;5;28;01mif\u001b[39;00m convertible:\n\u001b[0;32m    219\u001b[0m         \u001b[38;5;66;03m# this will only be called so long as convertible is True.\u001b[39;00m\n",
      "\u001b[1;31mTypeError\u001b[0m: unhashable type: 'numpy.ndarray'"
     ]
    },
    {
     "data": {
      "image/png": "[encoded data removed]",
      "text/plain": [
       "<Figure size 640x480 with 1 Axes>"
      ]
     },
     "metadata": {},
     "output_type": "display_data"
    }
   ],
   "source": [
    "plt.bar(categories, results, width = 0.5)\n",
    "plt.legend()\n",
    "plt.title(\"Accuracy Per Grid Search\")\n",
    "plt.show()"
   ]
  },
  {
   "cell_type": "markdown",
   "id": "7a9213e9-4306-4487-8471-beb907d6410b",
   "metadata": {},
   "source": [
    "# Load MlFlow Registerd Model"
   ]
  },
  {
   "cell_type": "code",
   "execution_count": null,
   "id": "8c58bd11-4b27-45fd-b225-b32288bc463f",
   "metadata": {},
   "outputs": [],
   "source": [
    "model_name = \"ResNet50_Freeze\"\n",
    "model_version = \"1\"\n",
    "model = mlflow.pytorch.load_model(f\"models:/{model_name}/{model_version}\")"
   ]
  },
  {
   "cell_type": "markdown",
   "id": "d30817bf-95f5-4667-a3cd-0a474cc7b01b",
   "metadata": {},
   "source": [
    "# Test Model with Seperated Test Data"
   ]
  },
  {
   "cell_type": "code",
   "execution_count": null,
   "id": "be7d6267-5df7-46df-892f-3499973db93d",
   "metadata": {},
   "outputs": [],
   "source": [
    "def predict(model, image_path):\n",
    "    image = cv2.imread(image_path)\n",
    "    img_rgb = cv2.cvtColor(image, cv2.COLOR_BGR2RGB)\n",
    "    img_pil = Image.fromarray(img_rgb)\n",
    "    image_tensor = transform(img_pil).unsqueeze(0).to(DEVICE) #Already transformed into a tensor here\n",
    "\n",
    "    model.eval()\n",
    "    with torch.no_grad():\n",
    "        predictions_log = model(image_tensor)\n",
    "        predictions_prob = torch.exp(predictions_log)\n",
    "        max_probability_predicted, max_probability_index = torch.max(predictions_prob, dim=1)\n",
    "    return max_probability_index.item()"
   ]
  },
  {
   "cell_type": "code",
   "execution_count": null,
   "id": "d33fb2c4-465d-48f7-9c5d-f334bc38cbc9",
   "metadata": {},
   "outputs": [],
   "source": [
    "#TEST_FOLDER_DIR = os.path.join(os.path.dirname(MAIN_DIR), \"test_data\")\n",
    "TEST_FOLDER_DIR = os.path.join(MAIN_DIR, \"test_data\")\n",
    "predicted, ground_truth = [], []\n",
    "for style in os.listdir(TEST_FOLDER_DIR):\n",
    "    correct_result = CLASSIFICATION_MAPPING[style]\n",
    "    style_path = os.path.join(TEST_FOLDER_DIR, style)\n",
    "    for pic in os.listdir(style_path):\n",
    "        predicted_result = predict(model, os.path.join(style_path, pic))\n",
    "        predicted.append(predicted_result)\n",
    "        ground_truth.append(correct_result)"
   ]
  },
  {
   "cell_type": "code",
   "execution_count": null,
   "id": "41f3582a-f5a1-45fc-848b-c2063f90dd9f",
   "metadata": {},
   "outputs": [],
   "source": [
    "predicted = torch.tensor(predicted)\n",
    "ground_truth = torch.tensor(ground_truth)\n",
    "\n",
    "accuracy = Accuracy(task='multiclass', num_classes=len(CLASSIFICATION_MAPPING), average='macro')\n",
    "precision = Precision(task='multiclass', num_classes=len(CLASSIFICATION_MAPPING), average='macro')\n",
    "recall = Recall(task='multiclass', num_classes=len(CLASSIFICATION_MAPPING), average='macro')\n",
    "f1score = F1Score(task='multiclass', num_classes=len(CLASSIFICATION_MAPPING), average='macro')\n",
    "\n",
    "accuracy.update(predicted, ground_truth)\n",
    "precision.update(predicted, ground_truth)\n",
    "recall.update(predicted, ground_truth)\n",
    "f1score.update(predicted, ground_truth)"
   ]
  },
  {
   "cell_type": "code",
   "execution_count": null,
   "id": "2d1402e0-c97e-40ce-81b2-528ba39a4161",
   "metadata": {},
   "outputs": [],
   "source": [
    "# Compute and print results\n",
    "print(\"Accuracy:\", accuracy.compute())\n",
    "print(\"Precision:\", precision.compute())\n",
    "print(\"Recall:\", recall.compute())\n",
    "print(\"F1 Score:\", f1score.compute())"
   ]
  }
 ],
 "metadata": {
  "kernelspec": {
   "display_name": "Python 3 (ipykernel)",
   "language": "python",
   "name": "python3"
  },
  "language_info": {
   "codemirror_mode": {
    "name": "ipython",
    "version": 3
   },
   "file_extension": ".py",
   "mimetype": "text/x-python",
   "name": "python",
   "nbconvert_exporter": "python",
   "pygments_lexer": "ipython3",
   "version": "3.11.11"
  }
 },
 "nbformat": 4,
 "nbformat_minor": 5
}
