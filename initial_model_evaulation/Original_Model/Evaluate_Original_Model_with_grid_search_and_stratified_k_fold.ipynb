{
 "cells": [
  {
   "cell_type": "markdown",
   "id": "97e197b3-863d-4c4a-b92b-dedd6dea384a",
   "metadata": {},
   "source": [
    "# MlFlow Experiment Tracking Setup"
   ]
  },
  {
   "cell_type": "code",
   "execution_count": null,
   "id": "4e4baede-b631-42cb-9e2c-777146b375c9",
   "metadata": {},
   "outputs": [],
   "source": [
    "import mlflow\n",
    "mlflow.autolog()\n",
    "mlflow.set_tracking_uri(\"http://localhost:8080\")\n",
    "mlflow.set_experiment(\"Initial Model Evaluation\")\n",
    "mlflow.set_tag(\"mlflow.runName\", \"Original_Model\")\n",
    "mlflow.set_experiment_tag"
   ]
  },
  {
   "cell_type": "markdown",
   "id": "6851ece3-2795-4f8f-bbf4-a7655cffc10e",
   "metadata": {},
   "source": [
    "# Imports"
   ]
  },
  {
   "cell_type": "code",
   "execution_count": null,
   "id": "6d1f9477-0e4c-438d-a3f9-d3718f472ce5",
   "metadata": {},
   "outputs": [],
   "source": [
    "import os\n",
    "import cv2\n",
    "import sys\n",
    "from PIL import Image\n",
    "from torchvision.transforms.functional import to_pil_image\n",
    "from tqdm.notebook import tqdm\n",
    "import matplotlib.pyplot as plt\n",
    "import torch\n",
    "from torch.utils.data import Dataset, DataLoader, random_split, Subset\n",
    "#Using Resnet50 for classification\n",
    "import torchvision.models as models\n",
    "import torch.nn as nn\n",
    "from torchmetrics import Accuracy, Precision, Recall, F1Score\n",
    "from pathlib import Path\n",
    "from sklearn.model_selection import StratifiedKFold\n",
    "import torch.optim as optim\n",
    "import numpy as np\n",
    "\n",
    "MAIN_DIR = Path(\"__file__\").resolve().parent.parent.parent\n",
    "CLASSIFICATION_MAPPING_DIR = os.path.join(MAIN_DIR, \"classification_mapping\") \n",
    "if CLASSIFICATION_MAPPING_DIR not in sys.path:\n",
    "    sys.path.insert(0, CLASSIFICATION_MAPPING_DIR)\n",
    "from classification_mapping import CLASSIFICATION_MAPPING\n",
    "\n",
    "DATA_DIR = os.path.join(MAIN_DIR, 'data')\n",
    "TRANSLATED_DATA_DIR = os.path.join(MAIN_DIR, 'data_original_model_translated')"
   ]
  },
  {
   "cell_type": "code",
   "execution_count": null,
   "id": "ceeb06b0-8e01-46ac-837d-6f02dff57bae",
   "metadata": {},
   "outputs": [],
   "source": [
    "DEVICE = torch.accelerator.current_accelerator().type if torch.accelerator.is_available() else \"cpu\"\n",
    "print(f\"Using {DEVICE} device\")"
   ]
  },
  {
   "cell_type": "markdown",
   "id": "bf5c2bba-794d-49bb-8f10-eaa67fc9e540",
   "metadata": {},
   "source": [
    "# Loading Dataset"
   ]
  },
  {
   "cell_type": "code",
   "execution_count": null,
   "id": "3ecce1ae-15d1-435a-a4fa-0e262a185350",
   "metadata": {},
   "outputs": [],
   "source": [
    "# Function to transform images to 224x224 for ResNet with normalization based on\n",
    "# original model image normalization settings\n",
    "from torchvision import transforms\n",
    "transform = transforms.Compose([\n",
    "    transforms.Resize((512, 512)),\n",
    "    transforms.ToTensor(),\n",
    "])"
   ]
  },
  {
   "cell_type": "code",
   "execution_count": null,
   "id": "292bf32f-9018-40b0-abbc-ab2d3243dc6f",
   "metadata": {
    "scrolled": true
   },
   "outputs": [],
   "source": [
    "data, labels = [], []\n",
    "\n",
    "for dir_ in os.listdir(DATA_DIR):\n",
    "    path = os.path.join(DATA_DIR, dir_)\n",
    "    translated_path = os.path.join(TRANSLATED_DATA_DIR, dir_)\n",
    "    if not os.path.exists(translated_path): os.makedirs(translated_path)\n",
    "\n",
    "    for img in os.listdir(path):\n",
    "        # Load and transform the image\n",
    "        image_path = os.path.join(path, img)\n",
    "        image = cv2.imread(image_path)\n",
    "        img_rgb = cv2.cvtColor(image, cv2.COLOR_BGR2RGB)\n",
    "        img_pil = Image.fromarray(img_rgb)\n",
    "        image_tensor = transform(img_pil)\n",
    "\n",
    "        data.append(image_tensor)\n",
    "        labels.append(dir_)\n",
    "        \n",
    "        image_pil = to_pil_image(image_tensor)\n",
    "        image_translated_path = os.path.join(translated_path, img)\n",
    "        image_pil.save(image_translated_path)"
   ]
  },
  {
   "cell_type": "code",
   "execution_count": null,
   "id": "0d823e0f-3eb5-485d-8895-ea6c063b9f06",
   "metadata": {},
   "outputs": [],
   "source": [
    "print(len(data))"
   ]
  },
  {
   "cell_type": "code",
   "execution_count": null,
   "id": "53bf5cf5-f8c4-4f30-b9b6-99df13ee3589",
   "metadata": {},
   "outputs": [],
   "source": [
    "class SignDataset(Dataset):\n",
    "    def __init__(self, data, labels):\n",
    "        self.data = data\n",
    "        self.labels = torch.tensor([CLASSIFICATION_MAPPING[label] for label in labels], dtype=torch.long)\n",
    "\n",
    "    def __len__(self):\n",
    "        return len(self.data)\n",
    "\n",
    "    def __getitem__(self, idx):\n",
    "        return self.data[idx], self.labels[idx]\n",
    "\n",
    "    @property\n",
    "    def classes(self):\n",
    "        return self.data.classes"
   ]
  },
  {
   "cell_type": "code",
   "execution_count": null,
   "id": "22fa42fd-ee56-4e81-a82a-f7c1491cc371",
   "metadata": {},
   "outputs": [],
   "source": [
    "dataset = SignDataset(data, labels)\n",
    "len(dataset)"
   ]
  },
  {
   "cell_type": "code",
   "execution_count": null,
   "id": "4c917e5f-11c2-4ad4-b4d0-3b6f234f55ec",
   "metadata": {},
   "outputs": [],
   "source": [
    "# Stratified K Folde Cross Validation\n",
    "k_folds = 5\n",
    "skf = StratifiedKFold(n_splits=k_folds, shuffle=True, random_state=42)"
   ]
  },
  {
   "cell_type": "markdown",
   "id": "d7ebc3a9-03d8-4ee2-99f6-47cfc3a20aac",
   "metadata": {},
   "source": [
    "# Function to Create CNN Model from Pytorch"
   ]
  },
  {
   "cell_type": "code",
   "execution_count": null,
   "id": "4c2ab4f2-af42-4815-b02c-66149a6a3abc",
   "metadata": {},
   "outputs": [],
   "source": [
    "num_classes = 4\n",
    "\n",
    "def create_model():\n",
    "    return CNN()\n",
    "    \n",
    "class CNN(nn.Module):\n",
    "    def __init__(self):\n",
    "        super(CNN, self).__init__()\n",
    "        self.net = nn.Sequential(\n",
    "            # Convolutional layers\n",
    "            nn.Conv2d(3, 16, kernel_size=3, padding=1),   # -> (16, 512, 512)\n",
    "            nn.ReLU(),\n",
    "\n",
    "            nn.Conv2d(16, 32, kernel_size=3, padding=1),  # -> (32, 512, 512)\n",
    "            nn.ReLU(),\n",
    "            nn.MaxPool2d(2),                              # -> (32, 216, 216)\n",
    "\n",
    "            nn.Conv2d(32, 64, kernel_size=3, padding=1),  # -> (64, 216, 216)\n",
    "            nn.ReLU(),\n",
    "\n",
    "            nn.Conv2d(64, 128, kernel_size=3, padding=1), # -> (128, 216, 216)\n",
    "            nn.ReLU(),\n",
    "            nn.MaxPool2d(2),                              # -> (128, 128, 128)\n",
    "\n",
    "            nn.Conv2d(128, 256, kernel_size=3, padding=1),# -> (256, 128, 128)\n",
    "            nn.ReLU(),\n",
    "\n",
    "            nn.Flatten(),                                 # -> 256 * 128 * 128 = 4,194,304\n",
    "\n",
    "            # Fully connected layers with dropout\n",
    "            nn.Linear(256 * 128 * 128, 512),\n",
    "            nn.ReLU(),\n",
    "            nn.Linear(256 * 128 * 128, 512),\n",
    "            nn.Dropout(p=0.5),  # Dropout applied after first FC ReLU\n",
    "\n",
    "            nn.Linear(512, num_classes),\n",
    "            nn.LogSoftmax(dim=1),\n",
    "        )\n",
    "\n",
    "    def forward(self, x):\n",
    "        return self.net(x)"
   ]
  },
  {
   "cell_type": "markdown",
   "id": "da56e6bb-44d4-4741-8ab9-d1df4589c555",
   "metadata": {},
   "source": [
    "# Grid Search Parameters"
   ]
  },
  {
   "cell_type": "code",
   "execution_count": null,
   "id": "899b363d-2eb7-44ea-984c-334c763e4115",
   "metadata": {},
   "outputs": [],
   "source": [
    "# Grid Search Parameters\n",
    "param_grid = {\n",
    "    'lr': [0.01, 0.001, 0.0001],\n",
    "    'train_batch_size': [16, 32, 64],\n",
    "    'test_batch_size': [16],\n",
    "    'weight_decay': [0.0, 1e-4],\n",
    "}"
   ]
  },
  {
   "cell_type": "code",
   "execution_count": null,
   "id": "3ca3a6be-7603-4ff2-b5f5-9ec9748c2991",
   "metadata": {},
   "outputs": [],
   "source": [
    "# Use itertools.product to iterate through combinations\n",
    "from itertools import product\n",
    "\n",
    "param_combinations = list(product(*param_grid.values()))\n",
    "param_names = list(param_grid.keys())"
   ]
  },
  {
   "cell_type": "markdown",
   "id": "4b9161a9-2bae-4987-bcad-fbfead976fbb",
   "metadata": {},
   "source": [
    "# Model training"
   ]
  },
  {
   "cell_type": "code",
   "execution_count": null,
   "id": "e0d3b3e5-2d26-4d9a-8f66-c11eb5da4a0c",
   "metadata": {},
   "outputs": [],
   "source": [
    "def train(model, optimizer, dataloader, criterion, device):\n",
    "    model.train()\n",
    "    for data, labels in dataloader:\n",
    "        data, labels = data.to(device), labels.to(device)\n",
    "        optimizer.zero_grad()\n",
    "        outputs = model(data)\n",
    "        loss = criterion(outputs, labels)\n",
    "        loss.backward()\n",
    "        optimizer.step()"
   ]
  },
  {
   "cell_type": "code",
   "execution_count": null,
   "id": "5fa8bf86-9288-40a4-9604-7b83cb308e38",
   "metadata": {},
   "outputs": [],
   "source": [
    "def evaluate(model, dataloader, device):\n",
    "    model.eval()\n",
    "    correct = total = 0\n",
    "    with torch.no_grad():\n",
    "        for data, labels in dataloader:\n",
    "            data, labels = data.to(device), labels.to(device)\n",
    "            outputs = model(data)\n",
    "            preds = outputs.argmax(dim=1)\n",
    "            correct += (preds == labels).sum().item()\n",
    "            total += labels.size(0)\n",
    "    return correct / total"
   ]
  },
  {
   "cell_type": "code",
   "execution_count": null,
   "id": "e1fce1b9-5c1c-430d-b030-24f269592d97",
   "metadata": {
    "scrolled": true
   },
   "outputs": [],
   "source": [
    "categories = []\n",
    "accuracies = []\n",
    "results = []\n",
    "num_epochs = 40\n",
    "for params in param_combinations:\n",
    "    config = dict(zip(param_names, params))\n",
    "    print(f\"Testing params: {config}\")\n",
    "    fold_accuracies = []\n",
    "\n",
    "    for fold, (train_idx, val_idx) in enumerate(skf.split(data, labels)):\n",
    "        print(f\"Fold {fold+1}\")\n",
    "        train_subset = Subset(dataset, train_idx)\n",
    "        val_subset = Subset(dataset, val_idx)\n",
    "\n",
    "        train_loader = torch.utils.data.DataLoader(train_subset, batch_size=config['train_batch_size'], shuffle=True)\n",
    "        val_loader = torch.utils.data.DataLoader(val_subset, batch_size=config['test_batch_size'])\n",
    "\n",
    "        model = create_model()  # Initialize fresh model per fold\n",
    "        optimizer = optim.Adam(model.parameters(), lr=config['lr'], weight_decay=config['weight_decay'])\n",
    "        criterion = torch.nn.CrossEntropyLoss()\n",
    "        model.to(DEVICE)\n",
    "\n",
    "        # Train and evaluate\n",
    "        for epoch in range(num_epochs):  # or another stopping criterion\n",
    "            train(model, optimizer, train_loader, criterion, DEVICE)\n",
    "\n",
    "        acc = evaluate(model, val_loader, DEVICE)\n",
    "        fold_accuracies.append(acc)\n",
    "\n",
    "    avg_acc = np.mean(fold_accuracies)\n",
    "    print(f\"Average Accuracy: {avg_acc:.4f}\")\n",
    "    results.append((config, avg_acc))\n",
    "    categories.append(str(config).replace(\"'\", \"\"))\n",
    "    accuracies.append(avg_acc)"
   ]
  },
  {
   "cell_type": "markdown",
   "id": "7631b56f-4495-4da1-9553-3c1328b07a7f",
   "metadata": {},
   "source": [
    "# Visualize"
   ]
  },
  {
   "cell_type": "code",
   "execution_count": null,
   "id": "76bd38d6-bf2d-4942-88c9-093ced8a21d4",
   "metadata": {},
   "outputs": [],
   "source": [
    "plt.barh(categories, accuracies)\n",
    "plt.legend()\n",
    "plt.title(\"Accuracy Per Grid Search Per 5 K fold/40 epochs\")\n",
    "plt.show()"
   ]
  },
  {
   "cell_type": "markdown",
   "id": "c6beebec-4235-45c9-a639-dea66fe1fb7c",
   "metadata": {},
   "source": [
    "# Model Evaluation Logging"
   ]
  },
  {
   "cell_type": "code",
   "execution_count": null,
   "id": "a3d4c9f7-542f-4bbb-98f2-8e3e9acb3c64",
   "metadata": {},
   "outputs": [],
   "source": [
    "# Log result\n",
    "for category, accuracy in zip(categories, accuracies):\n",
    "    mlflow.log_metric(category.replace(\"'\", \"\").replace(\"{\",\"\").replace(\"}\",\"\").replace(\": \", \"\").replace(\", \", \" \"), accuracy)"
   ]
  },
  {
   "cell_type": "code",
   "execution_count": null,
   "id": "63e807e7-378a-421b-b7b7-ef7e23788c94",
   "metadata": {},
   "outputs": [],
   "source": []
  }
 ],
 "metadata": {
  "kernelspec": {
   "display_name": "Python 3 (ipykernel)",
   "language": "python",
   "name": "python3"
  },
  "language_info": {
   "codemirror_mode": {
    "name": "ipython",
    "version": 3
   },
   "file_extension": ".py",
   "mimetype": "text/x-python",
   "name": "python",
   "nbconvert_exporter": "python",
   "pygments_lexer": "ipython3",
   "version": "3.11.11"
  }
 },
 "nbformat": 4,
 "nbformat_minor": 5
}
