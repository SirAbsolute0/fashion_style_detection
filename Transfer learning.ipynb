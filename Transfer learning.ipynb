{
 "cells": [
  {
   "cell_type": "markdown",
   "id": "97e197b3-863d-4c4a-b92b-dedd6dea384a",
   "metadata": {},
   "source": [
    "# MlFlow Experiment Tracking Setup"
   ]
  },
  {
   "cell_type": "code",
   "execution_count": 1,
   "id": "4e4baede-b631-42cb-9e2c-777146b375c9",
   "metadata": {},
   "outputs": [
    {
     "data": {
      "text/plain": [
       "<function mlflow.tracking.fluent.set_experiment_tag(key: str, value: Any) -> None>"
      ]
     },
     "execution_count": 1,
     "metadata": {},
     "output_type": "execute_result"
    }
   ],
   "source": [
    "import mlflow\n",
    "mlflow.autolog()\n",
    "mlflow.set_tracking_uri(\"http://localhost:8080\")\n",
    "mlflow.set_experiment(\"Transfer Learning Practice\")\n",
    "mlflow.set_tag(\"mlflow.runName\", \"inital run\")\n",
    "mlflow.set_experiment_tag"
   ]
  },
  {
   "cell_type": "markdown",
   "id": "6851ece3-2795-4f8f-bbf4-a7655cffc10e",
   "metadata": {},
   "source": [
    "# Imports"
   ]
  },
  {
   "cell_type": "code",
   "execution_count": 7,
   "id": "6d1f9477-0e4c-438d-a3f9-d3718f472ce5",
   "metadata": {},
   "outputs": [],
   "source": [
    "import os\n",
    "import cv2\n",
    "from PIL import Image\n",
    "from torchvision.transforms.functional import to_pil_image\n",
    "from tqdm.notebook import tqdm\n",
    "import matplotlib.pyplot as plt\n",
    "import torch\n",
    "from torch.utils.data import Dataset, DataLoader, random_split\n",
    "#Using Resnet50 for classification\n",
    "import torchvision.models as models\n",
    "import torch.nn as nn\n",
    "from classification_mapping import CLASSIFICATION_MAPPING\n",
    "from torchmetrics import Accuracy, Precision, Recall, F1Score\n",
    "\n",
    "DATA_DIR = 'data'\n",
    "TRANSLATED_DATA_DIR = 'data_translated'"
   ]
  },
  {
   "cell_type": "code",
   "execution_count": 3,
   "id": "ceeb06b0-8e01-46ac-837d-6f02dff57bae",
   "metadata": {},
   "outputs": [
    {
     "name": "stdout",
     "output_type": "stream",
     "text": [
      "Using cuda device\n"
     ]
    }
   ],
   "source": [
    "DEVICE = torch.accelerator.current_accelerator().type if torch.accelerator.is_available() else \"cpu\"\n",
    "print(f\"Using {DEVICE} device\")"
   ]
  },
  {
   "cell_type": "markdown",
   "id": "bf5c2bba-794d-49bb-8f10-eaa67fc9e540",
   "metadata": {},
   "source": [
    "# Loading Dataset"
   ]
  },
  {
   "cell_type": "code",
   "execution_count": 5,
   "id": "41c1b58a-62f7-4f22-afd7-cd8eb04a2d03",
   "metadata": {},
   "outputs": [],
   "source": [
    "mean=[0.485, 0.456, 0.406]\n",
    "std=[0.229, 0.224, 0.225]"
   ]
  },
  {
   "cell_type": "code",
   "execution_count": 6,
   "id": "3ecce1ae-15d1-435a-a4fa-0e262a185350",
   "metadata": {},
   "outputs": [],
   "source": [
    "# Function to transform images to 224x224 for ResNet with normalization based on\n",
    "# original model image normalization settings\n",
    "from torchvision import transforms\n",
    "transform = transforms.Compose([\n",
    "    transforms.Resize((224, 224)),\n",
    "    transforms.ToTensor(),\n",
    "    transforms.Normalize(mean=mean, std=std),\n",
    "])"
   ]
  },
  {
   "cell_type": "code",
   "execution_count": 9,
   "id": "292bf32f-9018-40b0-abbc-ab2d3243dc6f",
   "metadata": {
    "scrolled": true
   },
   "outputs": [
    {
     "name": "stderr",
     "output_type": "stream",
     "text": [
      "C:\\Users\\Phuong Hoang Dinh\\AppData\\Local\\Temp\\ipykernel_26044\\1864759694.py:4: UserWarning: To copy construct from a tensor, it is recommended to use sourceTensor.detach().clone() or sourceTensor.detach().clone().requires_grad_(True), rather than torch.tensor(sourceTensor).\n",
      "  mean = torch.tensor(mean).view(3, 1, 1)\n",
      "C:\\Users\\Phuong Hoang Dinh\\AppData\\Local\\Temp\\ipykernel_26044\\1864759694.py:5: UserWarning: To copy construct from a tensor, it is recommended to use sourceTensor.detach().clone() or sourceTensor.detach().clone().requires_grad_(True), rather than torch.tensor(sourceTensor).\n",
      "  std = torch.tensor(std).view(3, 1, 1)\n"
     ]
    }
   ],
   "source": [
    "data, labels = [], []\n",
    "\n",
    "# Reconverting the image to view in data_translated\n",
    "mean = torch.tensor(mean).view(3, 1, 1)\n",
    "std = torch.tensor(std).view(3, 1, 1)\n",
    "\n",
    "for dir_ in os.listdir(DATA_DIR):\n",
    "    path = os.path.join(DATA_DIR, dir_)\n",
    "    translated_path = os.path.join(TRANSLATED_DATA_DIR, dir_)\n",
    "    if not os.path.exists(translated_path): os.makedirs(translated_path)\n",
    "\n",
    "    for img in os.listdir(path):\n",
    "        # Load and transform the image\n",
    "        image_path = os.path.join(path, img)\n",
    "        image = cv2.imread(image_path)\n",
    "        img_rgb = cv2.cvtColor(image, cv2.COLOR_BGR2RGB)\n",
    "        img_pil = Image.fromarray(img_rgb)\n",
    "        image_tensor = transform(img_pil)\n",
    "\n",
    "        data.append(image_tensor)\n",
    "        labels.append(dir_)\n",
    "\n",
    "        # Convert back to PIL image, unnormalize, and save\n",
    "        unnormalized = image_tensor * std + mean\n",
    "        unnormalized = unnormalized.clamp(0, 1)\n",
    "        \n",
    "        image_pil = to_pil_image(unnormalized)\n",
    "        image_translated_path = os.path.join(translated_path, img)\n",
    "        image_pil.save(image_translated_path)"
   ]
  },
  {
   "cell_type": "code",
   "execution_count": 10,
   "id": "0d823e0f-3eb5-485d-8895-ea6c063b9f06",
   "metadata": {},
   "outputs": [
    {
     "name": "stdout",
     "output_type": "stream",
     "text": [
      "175\n"
     ]
    }
   ],
   "source": [
    "print(len(data))"
   ]
  },
  {
   "cell_type": "code",
   "execution_count": 11,
   "id": "53bf5cf5-f8c4-4f30-b9b6-99df13ee3589",
   "metadata": {},
   "outputs": [],
   "source": [
    "class SignDataset(Dataset):\n",
    "    def __init__(self, data, labels):\n",
    "        self.data = data\n",
    "        self.labels = torch.tensor([CLASSIFICATION_MAPPING[label] for label in labels], dtype=torch.long)\n",
    "\n",
    "    def __len__(self):\n",
    "        return len(self.data)\n",
    "\n",
    "    def __getitem__(self, idx):\n",
    "        return self.data[idx], self.labels[idx]\n",
    "\n",
    "    @property\n",
    "    def classes(self):\n",
    "        return self.data.classes"
   ]
  },
  {
   "cell_type": "code",
   "execution_count": 12,
   "id": "22fa42fd-ee56-4e81-a82a-f7c1491cc371",
   "metadata": {},
   "outputs": [
    {
     "data": {
      "text/plain": [
       "175"
      ]
     },
     "execution_count": 12,
     "metadata": {},
     "output_type": "execute_result"
    }
   ],
   "source": [
    "dataset = SignDataset(data, labels)\n",
    "len(dataset)"
   ]
  },
  {
   "cell_type": "code",
   "execution_count": 13,
   "id": "d550cd2a-b084-4680-b72b-f71b421ce8b0",
   "metadata": {},
   "outputs": [
    {
     "name": "stdout",
     "output_type": "stream",
     "text": [
      "140\n",
      "35\n"
     ]
    }
   ],
   "source": [
    "train_dataset, test_dataset = random_split(dataset, [0.8, 0.2])\n",
    "print(len(train_dataset))\n",
    "print(len(test_dataset))"
   ]
  },
  {
   "cell_type": "code",
   "execution_count": 14,
   "id": "6da46f4c-c0ed-4db8-b119-b594315be058",
   "metadata": {},
   "outputs": [],
   "source": [
    "train_dataloader = DataLoader(dataset, batch_size = 32, shuffle = True)\n",
    "test_dataloader = DataLoader(test_dataset, batch_size = 14, shuffle = True)"
   ]
  },
  {
   "cell_type": "code",
   "execution_count": 15,
   "id": "dcc0b423-193c-4061-a4c5-cc3566f00c4c",
   "metadata": {},
   "outputs": [],
   "source": [
    "for data, label in train_dataloader:\n",
    "    break"
   ]
  },
  {
   "cell_type": "code",
   "execution_count": 16,
   "id": "8b61b3d5-c365-46c2-adcd-93e6c20ad724",
   "metadata": {},
   "outputs": [
    {
     "name": "stdout",
     "output_type": "stream",
     "text": [
      "torch.Size([32, 3, 224, 224])\n"
     ]
    }
   ],
   "source": [
    "print(data.shape)"
   ]
  },
  {
   "cell_type": "code",
   "execution_count": 17,
   "id": "5d7cb152-2f75-43f8-9733-4826837128c6",
   "metadata": {},
   "outputs": [
    {
     "name": "stdout",
     "output_type": "stream",
     "text": [
      "torch.Size([32])\n"
     ]
    }
   ],
   "source": [
    "print(label.shape)"
   ]
  },
  {
   "cell_type": "markdown",
   "id": "d7ebc3a9-03d8-4ee2-99f6-47cfc3a20aac",
   "metadata": {},
   "source": [
    "# Loading Pre-trained Model from Pytorch"
   ]
  },
  {
   "cell_type": "code",
   "execution_count": 19,
   "id": "5e555113-b2ec-46c3-b1f1-606e023d3a53",
   "metadata": {},
   "outputs": [],
   "source": [
    "model = models.resnet50(weights = models.ResNet50_Weights)\n",
    "num_classes = 4 # Change output to 4 for desired classification task\n",
    "model.fc = nn.Linear(model.fc.in_features, num_classes)"
   ]
  },
  {
   "cell_type": "code",
   "execution_count": null,
   "id": "e98f6a27-88b9-47b1-abb8-1281703a4c32",
   "metadata": {},
   "outputs": [],
   "source": [
    "for param in model.parameters():\n",
    " param.requires_grad = False\n",
    "# Unfreeze the last layer\n",
    "for param in model.fc.parameters():\n",
    " param.requires_grad = True"
   ]
  },
  {
   "cell_type": "code",
   "execution_count": null,
   "id": "f76862ed-10c4-4440-add7-533a490e542f",
   "metadata": {},
   "outputs": [],
   "source": [
    "import torch.optim as optim\n",
    "criterion = nn.CrossEntropyLoss()\n",
    "optimizer = optim.Adam(model.parameters(), lr=0.001)"
   ]
  },
  {
   "cell_type": "markdown",
   "id": "4b9161a9-2bae-4987-bcad-fbfead976fbb",
   "metadata": {},
   "source": [
    "# Model training"
   ]
  },
  {
   "cell_type": "code",
   "execution_count": null,
   "id": "43bc8ed8-8b28-4b27-b571-8b8c712247e2",
   "metadata": {},
   "outputs": [],
   "source": [
    "num_epochs = 400\n",
    "train_losses, val_losses = [], []\n",
    "\n",
    "model.to(DEVICE)\n",
    "\n",
    "for epoch in range(num_epochs):\n",
    "    model.train() #setting model mode .train or .eval\n",
    "    running_loss = 0.0\n",
    "    for image, labels in tqdm(train_dataloader, desc = \"Training loop\"):\n",
    "        image, labels = image.to(DEVICE), labels.to(DEVICE)\n",
    "\n",
    "        optimizer.zero_grad()\n",
    "        outputs = model(image)\n",
    "        loss = criterion(outputs, labels)\n",
    "        loss.backward()\n",
    "        optimizer.step()\n",
    "        running_loss += loss.item() * labels.size(0)\n",
    "    train_loss = running_loss / len(train_dataloader.dataset)\n",
    "    train_losses.append(train_loss)\n",
    "\n",
    "    #Validation phase\n",
    "    model.eval()\n",
    "    running_loss = 0.0\n",
    "    with torch.no_grad():\n",
    "        for image, labels in tqdm(test_dataloader, desc = \"Validation loop\"):\n",
    "            image, labels = image.to(DEVICE), labels.to(DEVICE)\n",
    "            outputs = model(image)\n",
    "            loss = criterion(outputs, labels)\n",
    "            running_loss += loss.item() * labels.size(0)\n",
    "    val_loss = running_loss / len(test_dataloader.dataset)\n",
    "    val_losses.append(val_loss)\n",
    "\n",
    "    print(\"Epoch %d out of %s - Train loss: %s , Validation loss: %s\" % (epoch + 1, num_epochs, train_loss, val_loss))"
   ]
  },
  {
   "cell_type": "markdown",
   "id": "7631b56f-4495-4da1-9553-3c1328b07a7f",
   "metadata": {},
   "source": [
    "# Visualize"
   ]
  },
  {
   "cell_type": "code",
   "execution_count": null,
   "id": "76bd38d6-bf2d-4942-88c9-093ced8a21d4",
   "metadata": {},
   "outputs": [],
   "source": [
    "plt.plot(train_losses, label='Training loss')\n",
    "plt.plot(val_losses, label='Validation loss')\n",
    "plt.legend()\n",
    "plt.title(\"Loss over epochs\")\n",
    "plt.show()"
   ]
  },
  {
   "cell_type": "markdown",
   "id": "d30817bf-95f5-4667-a3cd-0a474cc7b01b",
   "metadata": {},
   "source": [
    "# Test Model with Seperated Test Data"
   ]
  },
  {
   "cell_type": "code",
   "execution_count": null,
   "id": "d33fb2c4-465d-48f7-9c5d-f334bc38cbc9",
   "metadata": {},
   "outputs": [],
   "source": []
  },
  {
   "cell_type": "markdown",
   "id": "17a936bb-cd9c-46cf-bff0-f9ff102d54d5",
   "metadata": {},
   "source": [
    "# Logging with MlFlow"
   ]
  },
  {
   "cell_type": "code",
   "execution_count": null,
   "id": "c844ac84-2fd0-48ed-a892-aa30860b28ce",
   "metadata": {},
   "outputs": [],
   "source": [
    "with mlflow.start_run():\n",
    "    mlflow.log_params()\n",
    "    mlflow.log_metric(\"train_loss\", train_loss)\n",
    "    mlflow.log_metric(\"validation_loss\", validation_loss)\n",
    "    \n",
    "    mlflow.log_metric(\"test_accuracy\", accuracy)\n",
    "    mlflow.log_metric(\"test_precision\", precision)\n",
    "    mlflow.log_metric(\"test_recall\", recall)\n",
    "    mlflow.log_metric(\"test_f1\", f1_score)\n",
    "\n",
    "    mlflow.log_artifacts(DATA_DIR, artifact_path=\"dataset\")"
   ]
  }
 ],
 "metadata": {
  "kernelspec": {
   "display_name": "Python 3 (ipykernel)",
   "language": "python",
   "name": "python3"
  },
  "language_info": {
   "codemirror_mode": {
    "name": "ipython",
    "version": 3
   },
   "file_extension": ".py",
   "mimetype": "text/x-python",
   "name": "python",
   "nbconvert_exporter": "python",
   "pygments_lexer": "ipython3",
   "version": "3.11.11"
  }
 },
 "nbformat": 4,
 "nbformat_minor": 5
}
